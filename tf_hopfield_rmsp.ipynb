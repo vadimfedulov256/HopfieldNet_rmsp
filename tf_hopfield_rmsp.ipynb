{
 "cells": [
  {
   "cell_type": "markdown",
   "metadata": {},
   "source": [
    "# Hopfield Neural Network 5x5 RMSProp"
   ]
  },
  {
   "cell_type": "code",
   "execution_count": null,
   "metadata": {},
   "outputs": [],
   "source": [
    "import tensorflow as tf\n",
    "import numpy as np\n",
    "from pylab import imshow, cm, show"
   ]
  },
  {
   "cell_type": "markdown",
   "metadata": {},
   "source": [
    "## String versions of letters that are learned by network "
   ]
  },
  {
   "cell_type": "code",
   "execution_count": null,
   "metadata": {},
   "outputs": [],
   "source": [
    "A = \"\"\"\n",
    ".XXX.\n",
    "X...X\n",
    "XXXXX\n",
    "X...X\n",
    "X...X\n",
    "\"\"\"\n",
    "\n",
    "Z = \"\"\"\n",
    "XXXXX\n",
    "...X.\n",
    "..X..\n",
    ".X...\n",
    "XXXXX\n",
    "\"\"\"\n",
    "\n",
    "E = \"\"\"\n",
    "XXXXX\n",
    "X....\n",
    "XXXX.\n",
    "X....\n",
    "XXXXX\n",
    "\"\"\""
   ]
  },
  {
   "cell_type": "markdown",
   "metadata": {},
   "source": [
    "## Hardly damaged versions of previous letters\n",
    "\n",
    "You can choose only one of them at the time to restore the original, in every example 9 bits were damaged.\n",
    "\n",
    "Neural Network can handle up to 5-7 damaged bits, and in some cases like in these ones even up to 9 bits."
   ]
  },
  {
   "cell_type": "code",
   "execution_count": null,
   "metadata": {},
   "outputs": [],
   "source": [
    "damaged = \"\"\"\n",
    ".....\n",
    "X...X\n",
    ".X..X\n",
    ".....\n",
    "X...X\n",
    "\"\"\""
   ]
  },
  {
   "cell_type": "code",
   "execution_count": null,
   "metadata": {},
   "outputs": [],
   "source": [
    "damaged = \"\"\"\n",
    ".....\n",
    "...X.\n",
    "..X..\n",
    ".X...\n",
    ".X...\n",
    "\"\"\""
   ]
  },
  {
   "cell_type": "code",
   "execution_count": null,
   "metadata": {},
   "outputs": [],
   "source": [
    "damaged = \"\"\"\n",
    "..XX.\n",
    "X....\n",
    ".X.X.\n",
    ".....\n",
    "..X.X\n",
    "\"\"\""
   ]
  },
  {
   "cell_type": "markdown",
   "metadata": {},
   "source": [
    "## Normally damaged letters\n",
    "In every example 7 bits were damaged, you can play with these, if you want. Neural network will almost always restore the original in range of 5-7 damaged bits (if it is even possible not to be confused between letters, be careful)"
   ]
  },
  {
   "cell_type": "code",
   "execution_count": null,
   "metadata": {},
   "outputs": [],
   "source": [
    "damaged = \"\"\"\n",
    "..X..\n",
    "X...X\n",
    ".X.XX\n",
    ".....\n",
    "....X\n",
    "\"\"\""
   ]
  },
  {
   "cell_type": "code",
   "execution_count": null,
   "metadata": {},
   "outputs": [],
   "source": [
    "damaged = \"\"\"\n",
    ".X...\n",
    "...X.\n",
    "..X..\n",
    ".X...\n",
    ".X.X.\n",
    "\"\"\""
   ]
  },
  {
   "cell_type": "code",
   "execution_count": null,
   "metadata": {},
   "outputs": [],
   "source": [
    "damaged = \"\"\"\n",
    "..XXX\n",
    "X....\n",
    ".X.X.\n",
    ".....\n",
    "X.X.X\n",
    "\"\"\""
   ]
  },
  {
   "cell_type": "markdown",
   "metadata": {},
   "source": [
    "### Patternization and visualization functions"
   ]
  },
  {
   "cell_type": "code",
   "execution_count": null,
   "metadata": {},
   "outputs": [],
   "source": [
    "def to_pattern(letter):\n",
    "    return np.reshape(np.array([+1 if c=='X' else -1 for c in letter.replace('\\n','')], dtype=np.float32), [1,25])\n",
    "\n",
    "def display(pattern):\n",
    "    imshow(pattern.reshape((5,5)),cmap=cm.binary, interpolation='nearest')\n",
    "    show()"
   ]
  },
  {
   "cell_type": "markdown",
   "metadata": {},
   "source": [
    "### Lets see the whole memory set of network"
   ]
  },
  {
   "cell_type": "code",
   "execution_count": null,
   "metadata": {},
   "outputs": [],
   "source": [
    "display(to_pattern(A))\n",
    "display(to_pattern(Z))\n",
    "display(to_pattern(E))"
   ]
  },
  {
   "cell_type": "markdown",
   "metadata": {},
   "source": [
    "### Set up the operations for prediction"
   ]
  },
  {
   "cell_type": "code",
   "execution_count": null,
   "metadata": {},
   "outputs": [],
   "source": [
    "X = to_pattern(damaged)\n",
    "W = tf.get_variable(\"w\", shape=[25,25])\n",
    "\n",
    "Y_prev_1 = tf.matmul(X, W)\n",
    "Y_1 = tf.round(tf.nn.sigmoid(Y_prev_1))\n",
    "\n",
    "Y_prev_2 = tf.matmul(Y_prev_1, W)\n",
    "Y_2 = tf.round(tf.nn.sigmoid(Y_prev_2))\n",
    "\n",
    "Y_prev_3 = tf.matmul(Y_prev_2, W)\n",
    "Y_3 = tf.round(tf.nn.sigmoid(Y_prev_3))\n",
    "\n",
    "Y_prev_4 = tf.matmul(Y_prev_3, W)\n",
    "Y_4 = tf.round(tf.nn.sigmoid(Y_prev_4))\n",
    "\n",
    "Y_prev_5 = tf.matmul(Y_prev_4, W)\n",
    "Y_5 = tf.round(tf.nn.sigmoid(Y_prev_5))\n",
    "\n",
    "prediction = Y_5\n",
    "\n",
    "saver = tf.train.Saver()"
   ]
  },
  {
   "cell_type": "markdown",
   "metadata": {},
   "source": [
    "### Damaged letter"
   ]
  },
  {
   "cell_type": "code",
   "execution_count": null,
   "metadata": {},
   "outputs": [],
   "source": [
    "display(to_pattern(damaged))"
   ]
  },
  {
   "cell_type": "markdown",
   "metadata": {},
   "source": [
    "### Prediction of Hopfield Network"
   ]
  },
  {
   "cell_type": "code",
   "execution_count": null,
   "metadata": {},
   "outputs": [],
   "source": [
    "with tf.Session() as sess:\n",
    "    saver.restore(sess, './model/hopfield')\n",
    "    pred = sess.run(prediction)\n",
    "    print('Rounded to 0/1 prediction:\\n'+str(pred))\n",
    "    display(pred)"
   ]
  },
  {
   "cell_type": "markdown",
   "metadata": {},
   "source": [
    "Thats it!"
   ]
  }
 ],
 "metadata": {
  "kernelspec": {
   "display_name": "Python 2",
   "language": "python",
   "name": "python2"
  },
  "language_info": {
   "codemirror_mode": {
    "name": "ipython",
    "version": 2
   },
   "file_extension": ".py",
   "mimetype": "text/x-python",
   "name": "python",
   "nbconvert_exporter": "python",
   "pygments_lexer": "ipython2",
   "version": "2.7.12"
  }
 },
 "nbformat": 4,
 "nbformat_minor": 2
}
